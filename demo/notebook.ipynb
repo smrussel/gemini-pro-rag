{
 "cells": [
  {
   "cell_type": "code",
   "execution_count": 1,
   "id": "7d49c22a-1ad0-4395-b93b-aa95660aa026",
   "metadata": {},
   "outputs": [],
   "source": [
    "from langchain_community.document_loaders import PyPDFLoader\n",
    "\n",
    "loader = PyPDFLoader(\"company-info.pdf\")\n",
    "data = loader.load()  "
   ]
  },
  {
   "cell_type": "code",
   "execution_count": 2,
   "id": "9672410a",
   "metadata": {},
   "outputs": [
    {
     "data": {
      "text/plain": [
       "[Document(metadata={'producer': 'ONLYOFFICE/8.2.2.22', 'creator': 'ONLYOFFICE/8.2.2.22', 'creationdate': '2025-03-01T05:52:19+00:00', 'moddate': '2025-03-01T05:52:19+00:00', 'source': 'company-info.pdf', 'total_pages': 4, 'page': 0, 'page_label': '1'}, page_content='1. **Company Information:**\\nGreenPower Solutions is a leading player in the renewable energy industry, committed\\nto offering clean and cost-effective solar solutions for homes and businesses. Founded\\nin 2015, we have been instrumental in advocating the widespread adoption of solar\\nenergy, improving the quality of life, and contributing to a sustainable future.\\n**Our Mission:**\\n\"To deliver affordable, reliable, and efficient solar energy systems that contribute to a\\ncleaner and more sustainable environment.\"\\n**Our Values:**\\n- Customer Focus\\n- Innovation\\n- Quality\\n- Integrity\\n- Sustainability\\n2. **Product Knowledge:**\\n- **Solar Panels:**\\nOur solar panels feature high-efficiency monocrystalline cells, ensuring maximum\\npower output. Designed for optimal performance in various weather conditions, they\\ncome with a robust build for a long lifespan. Power ratings range from 320 to 400 watts,\\nand our sales representatives guide customers to choose the right panel size based on\\ntheir energy needs, roof size, and budget.\\n- **Solar Inverters:**\\nWe provide two types of inverters: string inverters and microinverters, each with\\nunique advantages. String inverters are suitable for uniform sunlight, while\\nmicroinverters excel in complex installations. Helping customers choose the right\\ninverter is part of our commitment to tailor solutions to their needs.\\n- **Solar Batteries:**\\nOur lithium-ion solar batteries are known for high efficiency, a long lifespan, and\\ndeep discharge capabilities. Matching the battery capacity to the customer\\'s energy\\nusage patterns is crucial, emphasizing the benefits of energy independence, greater\\nsavings, and a reliable power supply.\\n- **Solar Monitoring System:**\\nOur digital solar monitoring system enables customers to track their system\\'s\\nperformance in real-time, fostering transparency and control. It provides data on power\\noutput, energy consumption, and stored solar energy, accessible remotely via\\nsmartphones or computers.\\n3. **Offers and Discounts:**'),\n",
       " Document(metadata={'producer': 'ONLYOFFICE/8.2.2.22', 'creator': 'ONLYOFFICE/8.2.2.22', 'creationdate': '2025-03-01T05:52:19+00:00', 'moddate': '2025-03-01T05:52:19+00:00', 'source': 'company-info.pdf', 'total_pages': 4, 'page': 1, 'page_label': '2'}, page_content=\"- **Early Bird Discount:**\\nFor proactive customers signing contracts within the first week of inquiry, we offer a\\n15% discount on the total cost of any solar energy system during August 2023.\\n- **Referral Discounts:**\\nOur Referral Discount program rewards both existing and new customers. Existing\\ncustomers receive a $500 discount or cash rebate for each successful referral, with\\nspecial incentives for multiple referrals within a year.\\n4. **Payment Plans:**\\n- **Cash Purchase:**\\nCustomers can opt for a cash purchase, paying the full amount upfront, leading to\\nthe highest long-term savings. Keep an eye out for cash discounts available through\\npromotions.\\n- **Financing:**\\nWe've partnered with trusted finance companies to offer low-interest financing\\noptions, enabling customers to pay over an agreed period.\\n- **Lease:**\\nOur lease option allows customers to enjoy solar benefits without upfront costs.\\nHowever, since we retain ownership, tax credits and incentives are not applicable.\\n- **Power Purchase Agreement (PPA):**\\nSimilar to a lease, customers pay for actual power generated, with Smith Solar\\nhandling installation and maintenance.\\n5. **Common Objections and Solutions:**\\n- **Cost:**\\nEmphasize long-term savings and flexible payment plans, including cash purchase,\\nfinancing, lease, and PPA. Highlight state incentives and tax credits to reduce\\ninstallation costs.\\n- **Effectiveness:**\\nShowcase the high efficiency of our monocrystalline solar panels and provide\\nperformance data from similar installations in various conditions.\\n- **Installation:**\\nAssure customers of our professional installation team handling all aspects, backed\\nby a comprehensive warranty.\\n6. **CRM & Lead Processing:**\\n- **Lead Entry:**\"),\n",
       " Document(metadata={'producer': 'ONLYOFFICE/8.2.2.22', 'creator': 'ONLYOFFICE/8.2.2.22', 'creationdate': '2025-03-01T05:52:19+00:00', 'moddate': '2025-03-01T05:52:19+00:00', 'source': 'company-info.pdf', 'total_pages': 4, 'page': 2, 'page_label': '3'}, page_content=\"Enter lead information promptly, including name, contact details, source, and the\\nresponsible representative.\\n- **Lead Tracking:**\\nRegularly update lead status in the CRM, from initial contact to won or lost\\nopportunities.\\n- **Task Management:**\\nUse the CRM for effective task management, including scheduling appointments,\\nsetting reminders, and tracking milestones.\\n7. **Follow-Ups:**\\n- **After First Contact:**\\nInitiate follow-ups within 24-48 hours to address questions, provide information, and\\nschedule further engagement.\\n- **Post-Quotation:**\\nSchedule a follow-up within 3-5 business days after sending a proposal to discuss\\ndetails and address concerns.\\n- **After Installation:**\\nConduct a follow-up 1-2 weeks post-installation to ensure customer satisfaction and\\nintroduce the referral program.\\n8. **Referral Program:**\\n- **Referral Entry:**\\nEnter referral information into the CRM with the referrer's consent, respecting\\nprivacy.\\n- **Referral Tracking:**\\nMonitor the referral's progress through the sales process, updating interactions\\nregularly.\\n- **Reward:**\\nOffer transparent rewards to referrers upon successful installation, fostering\\ncustomer satisfaction and encouraging further referrals.\\n9. **Compliance and Best Practices:**\\n- Always uphold GreenPower Solutions' values and mission.\\n- Ensure customer privacy and data security.\\n- Be transparent about product costs, benefits, and limitations.\\n- Continuously update your product knowledge and skills.\"),\n",
       " Document(metadata={'producer': 'ONLYOFFICE/8.2.2.22', 'creator': 'ONLYOFFICE/8.2.2.22', 'creationdate': '2025-03-01T05:52:19+00:00', 'moddate': '2025-03-01T05:52:19+00:00', 'source': 'company-info.pdf', 'total_pages': 4, 'page': 3, 'page_label': '4'}, page_content='Remember, the goal is to help customers understand and embrace the benefits of solar\\nenergy, contributing to a cleaner, more sustainable future with GreenPower Solutions.')]"
      ]
     },
     "execution_count": 2,
     "metadata": {},
     "output_type": "execute_result"
    }
   ],
   "source": [
    "data"
   ]
  },
  {
   "cell_type": "code",
   "execution_count": 3,
   "id": "a374eb7c-e262-42bb-8f3f-308ba7dcdbe4",
   "metadata": {},
   "outputs": [
    {
     "data": {
      "text/plain": [
       "4"
      ]
     },
     "execution_count": 3,
     "metadata": {},
     "output_type": "execute_result"
    }
   ],
   "source": [
    "len(data)"
   ]
  },
  {
   "cell_type": "code",
   "execution_count": 4,
   "id": "29633e3b-ff24-4ace-a09b-c03b6e28c5cc",
   "metadata": {},
   "outputs": [
    {
     "name": "stdout",
     "output_type": "stream",
     "text": [
      "Total number of documents:  8\n"
     ]
    }
   ],
   "source": [
    "from langchain.text_splitter import RecursiveCharacterTextSplitter\n",
    "\n",
    "# split data\n",
    "text_splitter = RecursiveCharacterTextSplitter(chunk_size=1000)\n",
    "docs = text_splitter.split_documents(data)\n",
    "\n",
    "\n",
    "print(\"Total number of documents: \",len(docs))"
   ]
  },
  {
   "cell_type": "code",
   "execution_count": 5,
   "id": "100b7d1a-1209-49d4-99ed-c51bc233a938",
   "metadata": {},
   "outputs": [
    {
     "data": {
      "text/plain": [
       "Document(metadata={'producer': 'ONLYOFFICE/8.2.2.22', 'creator': 'ONLYOFFICE/8.2.2.22', 'creationdate': '2025-03-01T05:52:19+00:00', 'moddate': '2025-03-01T05:52:19+00:00', 'source': 'company-info.pdf', 'total_pages': 4, 'page': 0, 'page_label': '1'}, page_content='1. **Company Information:**\\nGreenPower Solutions is a leading player in the renewable energy industry, committed\\nto offering clean and cost-effective solar solutions for homes and businesses. Founded\\nin 2015, we have been instrumental in advocating the widespread adoption of solar\\nenergy, improving the quality of life, and contributing to a sustainable future.\\n**Our Mission:**\\n\"To deliver affordable, reliable, and efficient solar energy systems that contribute to a\\ncleaner and more sustainable environment.\"\\n**Our Values:**\\n- Customer Focus\\n- Innovation\\n- Quality\\n- Integrity\\n- Sustainability\\n2. **Product Knowledge:**\\n- **Solar Panels:**\\nOur solar panels feature high-efficiency monocrystalline cells, ensuring maximum\\npower output. Designed for optimal performance in various weather conditions, they\\ncome with a robust build for a long lifespan. Power ratings range from 320 to 400 watts,\\nand our sales representatives guide customers to choose the right panel size based on')"
      ]
     },
     "execution_count": 5,
     "metadata": {},
     "output_type": "execute_result"
    }
   ],
   "source": [
    "docs[0]"
   ]
  },
  {
   "cell_type": "markdown",
   "id": "b62c5113",
   "metadata": {},
   "source": [
    "# Get an API key: \n",
    "\n",
    " https://ai.google.dev/gemini-api/docs/api-key to generate a Google AI API key. Paste in .env file\n",
    "\n",
    " Embedding models: https://python.langchain.com/v0.1/docs/integrations/text_embedding/"
   ]
  },
  {
   "cell_type": "code",
   "execution_count": 6,
   "id": "1073ab7f-2632-4367-8dec-c19449d6ce71",
   "metadata": {},
   "outputs": [
    {
     "data": {
      "text/plain": [
       "[0.05168594419956207,\n",
       " -0.030764883384108543,\n",
       " -0.03062233328819275,\n",
       " -0.02802734263241291,\n",
       " 0.01813093200325966]"
      ]
     },
     "execution_count": 6,
     "metadata": {},
     "output_type": "execute_result"
    }
   ],
   "source": [
    "from langchain_chroma import Chroma\n",
    "from langchain_google_genai import GoogleGenerativeAIEmbeddings\n",
    "\n",
    "from dotenv import load_dotenv\n",
    "load_dotenv() \n",
    "\n",
    "\n",
    "\n",
    "embeddings = GoogleGenerativeAIEmbeddings(model=\"models/embedding-001\")\n",
    "vector = embeddings.embed_query(\"hello, world!\")\n",
    "vector[:5]\n",
    "#vector"
   ]
  },
  {
   "cell_type": "code",
   "execution_count": 7,
   "id": "688b6e6a-d8ab-41fb-a665-b72c9c9b4026",
   "metadata": {},
   "outputs": [],
   "source": [
    "vectorstore = Chroma.from_documents(documents=docs, embedding=GoogleGenerativeAIEmbeddings(model=\"models/embedding-001\"))"
   ]
  },
  {
   "cell_type": "code",
   "execution_count": 8,
   "id": "2c674c5c-1b57-42e9-a99d-9e882c75da2d",
   "metadata": {},
   "outputs": [
    {
     "name": "stderr",
     "output_type": "stream",
     "text": [
      "Number of requested results 10 is greater than number of elements in index 8, updating n_results = 8\n"
     ]
    }
   ],
   "source": [
    "retriever = vectorstore.as_retriever(search_type=\"similarity\", search_kwargs={\"k\": 10})\n",
    "\n",
    "retrieved_docs = retriever.invoke(\"What is new in Development of Multiple Combined Regression Methods for Rainfall Measurement paper?\")\n"
   ]
  },
  {
   "cell_type": "code",
   "execution_count": 9,
   "id": "04c5c6bb-fd0e-45ec-b315-e3f7656e0329",
   "metadata": {},
   "outputs": [
    {
     "data": {
      "text/plain": [
       "8"
      ]
     },
     "execution_count": 9,
     "metadata": {},
     "output_type": "execute_result"
    }
   ],
   "source": [
    "len(retrieved_docs)"
   ]
  },
  {
   "cell_type": "code",
   "execution_count": 10,
   "id": "bf21d394",
   "metadata": {},
   "outputs": [
    {
     "data": {
      "text/plain": [
       "[Document(metadata={'page': 0, 'source': 'my_paper.pdf'}, page_content='See discussions, st ats, and author pr ofiles f or this public ation at : https://www .researchgate.ne t/public ation/357213035\\nDevelopment of Multiple Combined Regression Methods for Rainfall\\nMeasu rement Development of Multiple Combined Regression Methods for\\nRainfall Measu rement\\nArticle  · Dec ember 2021\\nCITATIONS\\n0READS\\n711\\n6 author s, including:\\nNusr at Jahan Pr ottasha\\nDaff odil Int ernational Univ ersity\\n26 PUBLICA TIONS \\xa0\\xa0\\xa0299 CITATIONS \\xa0\\xa0\\xa0\\nSEE PROFILE\\nMd K owsher\\nStevens Instit ute of T echnolog y\\n73 PUBLICA TIONS \\xa0\\xa0\\xa0561 CITATIONS \\xa0\\xa0\\xa0\\nSEE PROFILE\\nRokeya Khat un Shorna\\nJahangirnag ar Univ ersity\\n6 PUBLICA TIONS \\xa0\\xa0\\xa05 CITATIONS \\xa0\\xa0\\xa0\\nSEE PROFILE\\nNiaz Mur shed\\nJahangirnag ar Univ ersity\\n3 PUBLICA TIONS \\xa0\\xa0\\xa00 CITATIONS \\xa0\\xa0\\xa0\\nSEE PROFILE\\nAll c ontent f ollo wing this p age was uplo aded b y Niaz Mur shed  on 21 Dec ember 2021.\\nThe user has r equest ed enhanc ement of the do wnlo aded file.'),\n",
       " Document(metadata={'page': 1, 'source': 'my_paper.pdf'}, page_content='See discussions, st ats, and author pr ofiles f or this public ation at : https://www .researchgate.ne t/public ation/354831740\\nDevelopment of Multiple Combined Regression Methods for Rainfall\\nMeasu rement\\nChapt er · Januar y 2021\\nDOI: 10.52458/978-93-91842-08-6-7\\nCITATIONS\\n0READS\\n47\\n6 author s, including:\\nSome o f the author s of this public ation ar e also w orking on these r elat ed pr ojects:\\nBangla NLP  View pr oject\\nImp act le arning Implement ation  View pr oject\\nNusr at Jahan Pr ottasha\\nDaff odil Int ernational Univ ersity\\n15 PUBLICA TIONS \\xa0\\xa0\\xa012 CITATIONS \\xa0\\xa0\\xa0\\nSEE PROFILE\\nMd. K owsher\\nStevens Instit ute of T echnolog y\\n57 PUBLICA TIONS \\xa0\\xa0\\xa094 CITATIONS \\xa0\\xa0\\xa0\\nSEE PROFILE\\nAll c ontent f ollo wing this p age was uplo aded b y Md. K owsher  on 06 Dec ember 2021.\\nThe user has r equest ed enhanc ement of the do wnlo aded file.'),\n",
       " Document(metadata={'page': 2, 'source': 'my_paper.pdf'}, page_content='Development of Multiple Combined Regression\\nMethods for Rainfall Measurement.\\nNusrat Jahan Prottasha1, Md. Jashim Uddin2, Md. Kowsher3, Rokeya Khatun\\nShorna4, Niaz Al Murshed5, and Boktiar Ahmed Bappy6\\n1Daﬀodil International University Dhaka 1207, Bangladesh,\\njahannusratprotta@gmail.com\\n2Noakhali Science and Technology University, 3814, Dhaka,\\nmdjaud12@gmail.com\\n3Stevens Institute of Technology, Hoboken, NJ 07030 USA,\\nga.kowsher@gmail.com\\n4Daﬀodil International University, 1207, Dhaka,\\nrokeyashorna5@gmail.com\\n5Jahangirnagar University, 1342, Dhaka,\\nniazalmurshed.ai@gmail.com\\n6Jhenaidah polytechnic institute, 7300, Dhaka,\\nentbappy73@gmail.com\\nAbstract. Rainfall forecast is imperative as overwhelming precipitation\\ncan lead to numerous catastrophes. The prediction makes a diﬀerence for\\nindividuals to require preventive measures. In addition, the expectation\\nought to be precise. Most of the nations in the world is an agricultural'),\n",
       " Document(metadata={'page': 4, 'source': 'my_paper.pdf'}, page_content='Rainfall Prediction 3\\n–We have discussed a big comparison among all trained models to ﬁgure out\\nthe best performer.\\nThe paper is organized as takes after: Section II clariﬁes the related work of\\ndiﬀerent classiﬁcation strategies for the forecast of rain classiﬁcation. Section-III\\ndepicts the technique and materials utilized. Section-IV depicts the experimental\\nanalysis including performance and result. Section V talks about the conclusion\\nof this research work where section VI described about the plan of future.\\n2 Related Works\\nIn this paper, through a systematic investigation Rodda et al. have presented the\\nrainfall measurement problem, they claim there’s an orderly mistake in the esti-\\nmation of precipitation made in an ordinary way, a mistake which may inﬂuence\\nany gauges utilizing these estimations.[3] Besides Prabakaran et al. proposed a\\nmethod that speaks to a numerical strategy called Linear Regression to antici-'),\n",
       " Document(metadata={'page': 9, 'source': 'my_paper.pdf'}, page_content='8 Nusrat Jahan et al.\\nModel \\nLinear Model \\n> Linear Regression\\n> Polynomial Regression\\n> Ridge \\n> LassoTree Model \\n> Decision tree     \\n Regressor Neareﬆ Neighbor \\n> KNN Regressor Ensemble Model \\n> Random Foreﬆ\\nRegressor \\n> Adabooﬆ\\n> Gradient Booﬆing\\n> XGBooﬆ\\nSVM\\n> Support V ector \\nMachine\\nFig. 3. Training Algorithms\\nanticipate precipitation’s most pertinent mode. This area depicted distinctive\\ntest errands for the execution investigation and assessment and compared all\\ncalculations. Then, we have outlined the test setup utilized to execute the entire\\nerrand and utilized 11 statistical assessment measurements for investigation ex-\\necution. At long last, we have moreover compared with other works related to\\nthis issue concerning the ﬁnest form of our work.\\n4.1 Experiment Setup\\nwe have completed the complete computation in8google collab, a python reen-\\nactment environment given by Google. This environment comes with parallel'),\n",
       " Document(metadata={'page': 12, 'source': 'my_paper.pdf'}, page_content='task is to ﬁnd out the best regression technique for the prediction of rain. For\\nthis reason, we have used a variety of regression analysis techniques that can\\nbe utilized for predicting the quantity of rainfall so that anyone can use the\\nbest predictive model in real-life applications. To perform this task, we selected\\nﬁve signiﬁcant steps, these are data collection, data prepossessing, training model\\nusing regression analysis techniques, and performance analysis. In pre-processing\\npart, we have described cleaning data, Missing value check, EDA, Handling\\noutliers, Feature selection, Feature scaling respectively. Besides, we used ten\\nsupervised regressors (machine learning models) for predicting rainfall. Among\\nall models the are gives good accuracy in our predicting regression. Here, in'),\n",
       " Document(metadata={'page': 3, 'source': 'my_paper.pdf'}, page_content='years of historical data to train our model. The dataset contains various weather\\nconditions of diﬀerent places. This method can be utilized to predict the rainfall\\n(The amount of rainfall recorded for the day in mm) and avoid the annihilation\\ncaused by it to life, agriculture, farm, and property. If we can quantify the rain-\\nfall most people can make some decisions before overwhelmed rain-aﬀected. The\\ncontributions of this work are summarised as:\\n–We have assessed a pipeline of making choices for evaluating the ﬁnest rea-\\nsonable rain prediction.\\n–We have utilized 10 supervised regressors (Machine Learning Model). Be-\\ncause diﬀerent regressors give us diﬀerent results. So, it’s essential to ﬁnd\\nout the right model according to the requirements.'),\n",
       " Document(metadata={'page': 12, 'source': 'my_paper.pdf'}, page_content='Rainfall Prediction 11\\nforest and Gradient Boosting Regressor have acquired almost the same Accuracy\\nbut if we consider the evaluation metrics of then so, Random forest has a low\\nerror rate compare to Gradient Boosting. So, here we have considered the Ran-\\ndom forest approach. Overall all of regressors showed a standard and acceptable\\nperformance.\\nThe bar chart is a graph for representing all regressors algorithms with Sta-\\ntistical measurement. The bar can be vertically or horizontally. Here is the bar\\ngraph of our selective algorithms, down below.\\nFig. 4. Selective algorithms\\n5 Conclusion\\nIn this work, we have presented an initial attempt to determine how much rain\\nwill come when it’s raining time. In the data collection phase, we adopted real\\ndata from Australia from the Kaggle platform. The primary purpose of this\\ntask is to ﬁnd out the best regression technique for the prediction of rain. For\\nthis reason, we have used a variety of regression analysis techniques that can'),\n",
       " Document(metadata={'page': 3, 'source': 'my_paper.pdf'}, page_content='2 Nusrat Jahan et al.\\nKeywords: Rainfall, Supervised Learning, Regression, Random Forest\\nTree, AdaBoost Regressor, Gradient Boosting Regressor, XGBoost.\\n1 Introduction\\nThis research paper proposed a scientiﬁc method to predict rainfall quantity\\nbased on some diﬀerent weather conditions considering preceding weather records\\nand present weather situations using some regression analysis techniques .[1]\\nRainfall determining is exceptionally vital since overwhelming and irregular rain-\\nfall can have numerous impacts on many other things like annihilation of river-\\nbank, crops, agriculture, and farms. One of the very deleterious departures is\\nﬂooding due to the over rain.[2] According to Wikipedia in late summer 2002,\\nenormous storm downpours driven to gigantic ﬂooding in eastern India, Nepal,\\nand Bangladesh, killing over 500 individuals and clearing out millions of houses.\\nEach year in Bangladesh approximately 26,000 square kilometers (10,000 sq mi)'),\n",
       " Document(metadata={'page': 2, 'source': 'my_paper.pdf'}, page_content='individuals to require preventive measures. In addition, the expectation\\nought to be precise. Most of the nations in the world is an agricultural\\nnation and most of the economy of any nation depends upon agriculture.\\nRain plays an imperative part in agribusiness so the early expectation of\\nrainfall plays a vital part within the economy of any agricultural. Over-\\nwhelming precipitation may well be a major disadvantage. It’s a cause\\nfor natural disasters like ﬂoods and drought that unit of measurement\\nexperienced by people over the world each year. Rainfall forecast has\\nbeen one of the foremost challenging issues around the world in the ﬁnal\\nyear. There are so many techniques that have been invented for predict-\\ning rainfall but most of them are classiﬁcation, clustering techniques.\\nPredicting the quantity of rain prediction is crucial for countries’ people.\\nIn our paperwork, we have proposed some regression analysis techniques')]"
      ]
     },
     "execution_count": 10,
     "metadata": {},
     "output_type": "execute_result"
    }
   ],
   "source": [
    "retrieved_docs"
   ]
  },
  {
   "cell_type": "code",
   "execution_count": 10,
   "id": "8a1c8321-1efd-4a11-9744-0d1a7c6f4e0a",
   "metadata": {},
   "outputs": [
    {
     "name": "stdout",
     "output_type": "stream",
     "text": [
      "come with a robust build for a long lifespan. Power ratings range from 320 to 400 watts,\n",
      "and our sales representatives guide customers to choose the right panel size based on\n",
      "their energy needs, roof size, and budget.\n",
      "- **Solar Inverters:**\n",
      "We provide two types of inverters: string inverters and microinverters, each with\n",
      "unique advantages. String inverters are suitable for uniform sunlight, while\n",
      "microinverters excel in complex installations. Helping customers choose the right\n",
      "inverter is part of our commitment to tailor solutions to their needs.\n",
      "- **Solar Batteries:**\n",
      "Our lithium-ion solar batteries are known for high efficiency, a long lifespan, and\n",
      "deep discharge capabilities. Matching the battery capacity to the customer's energy\n",
      "usage patterns is crucial, emphasizing the benefits of energy independence, greater\n",
      "savings, and a reliable power supply.\n",
      "- **Solar Monitoring System:**\n",
      "Our digital solar monitoring system enables customers to track their system's\n"
     ]
    }
   ],
   "source": [
    "print(retrieved_docs[5].page_content)"
   ]
  },
  {
   "cell_type": "code",
   "execution_count": 11,
   "id": "7f991a1f-6ce9-4463-9941-b35014df94f6",
   "metadata": {},
   "outputs": [],
   "source": [
    "from langchain_google_genai import ChatGoogleGenerativeAI\n",
    "\n",
    "llm = ChatGoogleGenerativeAI(model=\"gemini-1.5-pro\",temperature=0.3, max_tokens=500)"
   ]
  },
  {
   "cell_type": "code",
   "execution_count": 12,
   "id": "6ee17439-7bc3-4931-9f57-4ec7e82ce902",
   "metadata": {},
   "outputs": [],
   "source": [
    "from langchain.chains import create_retrieval_chain\n",
    "from langchain.chains.combine_documents import create_stuff_documents_chain\n",
    "from langchain_core.prompts import ChatPromptTemplate\n",
    "\n",
    "system_prompt = (\n",
    "    \"You are an assistant for question-answering tasks. \"\n",
    "    \"Use the following pieces of retrieved context to answer \"\n",
    "    \"the question. If you don't know the answer, say that you \"\n",
    "    \"don't know. Use three sentences maximum and keep the \"\n",
    "    \"answer concise.\"\n",
    "    \"\\n\\n\"\n",
    "    \"{context}\"\n",
    ")\n",
    "\n",
    "prompt = ChatPromptTemplate.from_messages(\n",
    "    [\n",
    "        (\"system\", system_prompt),\n",
    "        (\"human\", \"{input}\"),\n",
    "    ]\n",
    ")"
   ]
  },
  {
   "cell_type": "code",
   "execution_count": 13,
   "id": "266e86e0-746b-4943-9470-fd842633ed85",
   "metadata": {},
   "outputs": [],
   "source": [
    "question_answer_chain = create_stuff_documents_chain(llm, prompt)\n",
    "rag_chain = create_retrieval_chain(retriever, question_answer_chain)"
   ]
  },
  {
   "cell_type": "code",
   "execution_count": 14,
   "id": "9db9500d-4c51-4a10-9b21-f1ef9c8f985e",
   "metadata": {},
   "outputs": [
    {
     "name": "stderr",
     "output_type": "stream",
     "text": [
      "Number of requested results 10 is greater than number of elements in index 8, updating n_results = 8\n"
     ]
    },
    {
     "name": "stdout",
     "output_type": "stream",
     "text": [
      "This question cannot be answered from the given context. The provided text discusses GreenPower Solutions, a company focused on providing solar energy solutions, and does not contain information about rainfall measurement research.\n"
     ]
    }
   ],
   "source": [
    "response = rag_chain.invoke({\"input\": \"What is new in Development of Multiple Combined Regression Methods for Rainfall Measurement paper?\"})\n",
    "print(response[\"answer\"])"
   ]
  },
  {
   "cell_type": "code",
   "execution_count": null,
   "id": "7cff65d0-2436-47f8-8572-6979a3378701",
   "metadata": {},
   "outputs": [],
   "source": []
  }
 ],
 "metadata": {
  "kernelspec": {
   "display_name": "Python 3",
   "language": "python",
   "name": "python3"
  },
  "language_info": {
   "codemirror_mode": {
    "name": "ipython",
    "version": 3
   },
   "file_extension": ".py",
   "mimetype": "text/x-python",
   "name": "python",
   "nbconvert_exporter": "python",
   "pygments_lexer": "ipython3",
   "version": "3.10.0"
  }
 },
 "nbformat": 4,
 "nbformat_minor": 5
}
